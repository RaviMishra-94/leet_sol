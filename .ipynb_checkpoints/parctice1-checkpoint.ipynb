{
 "cells": [
  {
   "cell_type": "code",
   "execution_count": 4,
   "id": "26cd62e0-c4f4-4cc2-a067-1322d87589e8",
   "metadata": {},
   "outputs": [],
   "source": [
    "import pandas as pd"
   ]
  },
  {
   "cell_type": "code",
   "execution_count": 6,
   "id": "11e348bd-f604-424f-82ee-4022676ca553",
   "metadata": {},
   "outputs": [],
   "source": [
    "SpotCrudePrices_2013_Data={\n",
    " 'U.K. Brent' : {'2013-Q1':112.9, '2013-Q2':103.0, '2013-Q3':110.1, '2013-Q4':109.4},\n",
    " 'Dubai':{'2013-Q1':108.1, '2013-Q2':100.8,'2013-Q3':106.1,'2013-Q4':106.7},\n",
    " 'West Texas Intermediate':{'2013-Q1':94.4, '2013-Q2':94.2, '2013-Q3':105.8,'2013-Q4':97.4}}"
   ]
  },
  {
   "cell_type": "code",
   "execution_count": 8,
   "id": "0872f480-b02e-4398-aae8-f29ad59bd3a1",
   "metadata": {},
   "outputs": [],
   "source": [
    "SpotCrudePrices_2013=pd.DataFrame.from_dict(SpotCrudePrices_2013_Data)"
   ]
  },
  {
   "cell_type": "code",
   "execution_count": 9,
   "id": "261925b6-c496-475c-982a-8421d60a1cda",
   "metadata": {},
   "outputs": [
    {
     "data": {
      "text/html": [
       "<div>\n",
       "<style scoped>\n",
       "    .dataframe tbody tr th:only-of-type {\n",
       "        vertical-align: middle;\n",
       "    }\n",
       "\n",
       "    .dataframe tbody tr th {\n",
       "        vertical-align: top;\n",
       "    }\n",
       "\n",
       "    .dataframe thead th {\n",
       "        text-align: right;\n",
       "    }\n",
       "</style>\n",
       "<table border=\"1\" class=\"dataframe\">\n",
       "  <thead>\n",
       "    <tr style=\"text-align: right;\">\n",
       "      <th></th>\n",
       "      <th>U.K. Brent</th>\n",
       "      <th>Dubai</th>\n",
       "      <th>West Texas Intermediate</th>\n",
       "    </tr>\n",
       "  </thead>\n",
       "  <tbody>\n",
       "    <tr>\n",
       "      <th>2013-Q1</th>\n",
       "      <td>112.9</td>\n",
       "      <td>108.1</td>\n",
       "      <td>94.4</td>\n",
       "    </tr>\n",
       "    <tr>\n",
       "      <th>2013-Q2</th>\n",
       "      <td>103.0</td>\n",
       "      <td>100.8</td>\n",
       "      <td>94.2</td>\n",
       "    </tr>\n",
       "    <tr>\n",
       "      <th>2013-Q3</th>\n",
       "      <td>110.1</td>\n",
       "      <td>106.1</td>\n",
       "      <td>105.8</td>\n",
       "    </tr>\n",
       "    <tr>\n",
       "      <th>2013-Q4</th>\n",
       "      <td>109.4</td>\n",
       "      <td>106.7</td>\n",
       "      <td>97.4</td>\n",
       "    </tr>\n",
       "  </tbody>\n",
       "</table>\n",
       "</div>"
      ],
      "text/plain": [
       "         U.K. Brent  Dubai  West Texas Intermediate\n",
       "2013-Q1       112.9  108.1                     94.4\n",
       "2013-Q2       103.0  100.8                     94.2\n",
       "2013-Q3       110.1  106.1                    105.8\n",
       "2013-Q4       109.4  106.7                     97.4"
      ]
     },
     "execution_count": 9,
     "metadata": {},
     "output_type": "execute_result"
    }
   ],
   "source": [
    "SpotCrudePrices_2013"
   ]
  },
  {
   "cell_type": "code",
   "execution_count": 18,
   "id": "1ace5d89-a82a-4c1e-971b-6705930e46fa",
   "metadata": {},
   "outputs": [],
   "source": [
    "dubai_prices = SpotCrudePrices_2013['Dubai']"
   ]
  },
  {
   "cell_type": "code",
   "execution_count": 19,
   "id": "857f5f1c-7cf1-4860-a67a-468a3cab7afa",
   "metadata": {},
   "outputs": [
    {
     "data": {
      "text/plain": [
       "2013-Q1    108.1\n",
       "2013-Q2    100.8\n",
       "2013-Q3    106.1\n",
       "2013-Q4    106.7\n",
       "Name: Dubai, dtype: float64"
      ]
     },
     "execution_count": 19,
     "metadata": {},
     "output_type": "execute_result"
    }
   ],
   "source": [
    "dubai_prices"
   ]
  },
  {
   "cell_type": "code",
   "execution_count": 21,
   "id": "0f2b8ee5-bdca-4cbc-b1be-6789f5f46c0e",
   "metadata": {},
   "outputs": [
    {
     "data": {
      "text/html": [
       "<div>\n",
       "<style scoped>\n",
       "    .dataframe tbody tr th:only-of-type {\n",
       "        vertical-align: middle;\n",
       "    }\n",
       "\n",
       "    .dataframe tbody tr th {\n",
       "        vertical-align: top;\n",
       "    }\n",
       "\n",
       "    .dataframe thead th {\n",
       "        text-align: right;\n",
       "    }\n",
       "</style>\n",
       "<table border=\"1\" class=\"dataframe\">\n",
       "  <thead>\n",
       "    <tr style=\"text-align: right;\">\n",
       "      <th></th>\n",
       "      <th>West Texas Intermediate</th>\n",
       "      <th>U.K. Brent</th>\n",
       "    </tr>\n",
       "  </thead>\n",
       "  <tbody>\n",
       "    <tr>\n",
       "      <th>2013-Q1</th>\n",
       "      <td>94.4</td>\n",
       "      <td>112.9</td>\n",
       "    </tr>\n",
       "    <tr>\n",
       "      <th>2013-Q2</th>\n",
       "      <td>94.2</td>\n",
       "      <td>103.0</td>\n",
       "    </tr>\n",
       "    <tr>\n",
       "      <th>2013-Q3</th>\n",
       "      <td>105.8</td>\n",
       "      <td>110.1</td>\n",
       "    </tr>\n",
       "    <tr>\n",
       "      <th>2013-Q4</th>\n",
       "      <td>97.4</td>\n",
       "      <td>109.4</td>\n",
       "    </tr>\n",
       "  </tbody>\n",
       "</table>\n",
       "</div>"
      ],
      "text/plain": [
       "         West Texas Intermediate  U.K. Brent\n",
       "2013-Q1                     94.4       112.9\n",
       "2013-Q2                     94.2       103.0\n",
       "2013-Q3                    105.8       110.1\n",
       "2013-Q4                     97.4       109.4"
      ]
     },
     "execution_count": 21,
     "metadata": {},
     "output_type": "execute_result"
    }
   ],
   "source": [
    "SpotCrudePrices_2013[['West Texas Intermediate','U.K. Brent']]"
   ]
  },
  {
   "cell_type": "code",
   "execution_count": 22,
   "id": "22239321-d207-47f4-b270-12990b2a5930",
   "metadata": {},
   "outputs": [
    {
     "data": {
      "text/plain": [
       "108.1"
      ]
     },
     "execution_count": 22,
     "metadata": {},
     "output_type": "execute_result"
    }
   ],
   "source": [
    "dubai_prices['2013-Q1']"
   ]
  },
  {
   "cell_type": "code",
   "execution_count": 25,
   "id": "c34f1924-2a84-43d5-b75e-24cd1fe07c7d",
   "metadata": {},
   "outputs": [
    {
     "data": {
      "text/plain": [
       "2013-Q1    108.1\n",
       "2013-Q2    100.8\n",
       "2013-Q3    106.1\n",
       "2013-Q4    106.7\n",
       "Name: Dubai, dtype: float64"
      ]
     },
     "execution_count": 25,
     "metadata": {},
     "output_type": "execute_result"
    }
   ],
   "source": [
    "SpotCrudePrices_2013.Dubai"
   ]
  },
  {
   "cell_type": "code",
   "execution_count": 27,
   "id": "e0905576-c942-4bc7-9af5-e796c3bd06e5",
   "metadata": {},
   "outputs": [],
   "source": [
    "SpotCrudePrices_2013.columns = ['Dubai','UK_Brent','West_Texas_Intermediate']"
   ]
  },
  {
   "cell_type": "code",
   "execution_count": 28,
   "id": "399d32f8-fc93-4b73-9248-a46c1e2de444",
   "metadata": {},
   "outputs": [
    {
     "data": {
      "text/html": [
       "<div>\n",
       "<style scoped>\n",
       "    .dataframe tbody tr th:only-of-type {\n",
       "        vertical-align: middle;\n",
       "    }\n",
       "\n",
       "    .dataframe tbody tr th {\n",
       "        vertical-align: top;\n",
       "    }\n",
       "\n",
       "    .dataframe thead th {\n",
       "        text-align: right;\n",
       "    }\n",
       "</style>\n",
       "<table border=\"1\" class=\"dataframe\">\n",
       "  <thead>\n",
       "    <tr style=\"text-align: right;\">\n",
       "      <th></th>\n",
       "      <th>Dubai</th>\n",
       "      <th>UK_Brent</th>\n",
       "      <th>West_Texas_Intermediate</th>\n",
       "    </tr>\n",
       "  </thead>\n",
       "  <tbody>\n",
       "    <tr>\n",
       "      <th>2013-Q1</th>\n",
       "      <td>112.9</td>\n",
       "      <td>108.1</td>\n",
       "      <td>94.4</td>\n",
       "    </tr>\n",
       "    <tr>\n",
       "      <th>2013-Q2</th>\n",
       "      <td>103.0</td>\n",
       "      <td>100.8</td>\n",
       "      <td>94.2</td>\n",
       "    </tr>\n",
       "    <tr>\n",
       "      <th>2013-Q3</th>\n",
       "      <td>110.1</td>\n",
       "      <td>106.1</td>\n",
       "      <td>105.8</td>\n",
       "    </tr>\n",
       "    <tr>\n",
       "      <th>2013-Q4</th>\n",
       "      <td>109.4</td>\n",
       "      <td>106.7</td>\n",
       "      <td>97.4</td>\n",
       "    </tr>\n",
       "  </tbody>\n",
       "</table>\n",
       "</div>"
      ],
      "text/plain": [
       "         Dubai  UK_Brent  West_Texas_Intermediate\n",
       "2013-Q1  112.9     108.1                     94.4\n",
       "2013-Q2  103.0     100.8                     94.2\n",
       "2013-Q3  110.1     106.1                    105.8\n",
       "2013-Q4  109.4     106.7                     97.4"
      ]
     },
     "execution_count": 28,
     "metadata": {},
     "output_type": "execute_result"
    }
   ],
   "source": [
    "SpotCrudePrices_2013"
   ]
  },
  {
   "cell_type": "code",
   "execution_count": 29,
   "id": "0afab268-ecce-41d0-a3e2-262fe74cf41e",
   "metadata": {},
   "outputs": [
    {
     "data": {
      "text/plain": [
       "2013-Q1    108.1\n",
       "2013-Q2    100.8\n",
       "2013-Q3    106.1\n",
       "2013-Q4    106.7\n",
       "Name: UK_Brent, dtype: float64"
      ]
     },
     "execution_count": 29,
     "metadata": {},
     "output_type": "execute_result"
    }
   ],
   "source": [
    "SpotCrudePrices_2013.UK_Brent"
   ]
  },
  {
   "cell_type": "code",
   "execution_count": 37,
   "id": "e98c172e-a456-4ab0-a721-25bddac81734",
   "metadata": {},
   "outputs": [
    {
     "ename": "KeyError",
     "evalue": "\"None of [Index([1], dtype='int32')] are in the [columns]\"",
     "output_type": "error",
     "traceback": [
      "\u001b[1;31m---------------------------------------------------------------------------\u001b[0m",
      "\u001b[1;31mKeyError\u001b[0m                                  Traceback (most recent call last)",
      "Cell \u001b[1;32mIn[37], line 1\u001b[0m\n\u001b[1;32m----> 1\u001b[0m \u001b[43mSpotCrudePrices_2013\u001b[49m\u001b[43m[\u001b[49m\u001b[43m[\u001b[49m\u001b[38;5;241;43m1\u001b[39;49m\u001b[43m]\u001b[49m\u001b[43m]\u001b[49m\n",
      "File \u001b[1;32m~\\AppData\\Local\\Programs\\Python\\Python312\\Lib\\site-packages\\pandas\\core\\frame.py:3899\u001b[0m, in \u001b[0;36mDataFrame.__getitem__\u001b[1;34m(self, key)\u001b[0m\n\u001b[0;32m   3897\u001b[0m     \u001b[38;5;28;01mif\u001b[39;00m is_iterator(key):\n\u001b[0;32m   3898\u001b[0m         key \u001b[38;5;241m=\u001b[39m \u001b[38;5;28mlist\u001b[39m(key)\n\u001b[1;32m-> 3899\u001b[0m     indexer \u001b[38;5;241m=\u001b[39m \u001b[38;5;28;43mself\u001b[39;49m\u001b[38;5;241;43m.\u001b[39;49m\u001b[43mcolumns\u001b[49m\u001b[38;5;241;43m.\u001b[39;49m\u001b[43m_get_indexer_strict\u001b[49m\u001b[43m(\u001b[49m\u001b[43mkey\u001b[49m\u001b[43m,\u001b[49m\u001b[43m \u001b[49m\u001b[38;5;124;43m\"\u001b[39;49m\u001b[38;5;124;43mcolumns\u001b[39;49m\u001b[38;5;124;43m\"\u001b[39;49m\u001b[43m)\u001b[49m[\u001b[38;5;241m1\u001b[39m]\n\u001b[0;32m   3901\u001b[0m \u001b[38;5;66;03m# take() does not accept boolean indexers\u001b[39;00m\n\u001b[0;32m   3902\u001b[0m \u001b[38;5;28;01mif\u001b[39;00m \u001b[38;5;28mgetattr\u001b[39m(indexer, \u001b[38;5;124m\"\u001b[39m\u001b[38;5;124mdtype\u001b[39m\u001b[38;5;124m\"\u001b[39m, \u001b[38;5;28;01mNone\u001b[39;00m) \u001b[38;5;241m==\u001b[39m \u001b[38;5;28mbool\u001b[39m:\n",
      "File \u001b[1;32m~\\AppData\\Local\\Programs\\Python\\Python312\\Lib\\site-packages\\pandas\\core\\indexes\\base.py:6115\u001b[0m, in \u001b[0;36mIndex._get_indexer_strict\u001b[1;34m(self, key, axis_name)\u001b[0m\n\u001b[0;32m   6112\u001b[0m \u001b[38;5;28;01melse\u001b[39;00m:\n\u001b[0;32m   6113\u001b[0m     keyarr, indexer, new_indexer \u001b[38;5;241m=\u001b[39m \u001b[38;5;28mself\u001b[39m\u001b[38;5;241m.\u001b[39m_reindex_non_unique(keyarr)\n\u001b[1;32m-> 6115\u001b[0m \u001b[38;5;28;43mself\u001b[39;49m\u001b[38;5;241;43m.\u001b[39;49m\u001b[43m_raise_if_missing\u001b[49m\u001b[43m(\u001b[49m\u001b[43mkeyarr\u001b[49m\u001b[43m,\u001b[49m\u001b[43m \u001b[49m\u001b[43mindexer\u001b[49m\u001b[43m,\u001b[49m\u001b[43m \u001b[49m\u001b[43maxis_name\u001b[49m\u001b[43m)\u001b[49m\n\u001b[0;32m   6117\u001b[0m keyarr \u001b[38;5;241m=\u001b[39m \u001b[38;5;28mself\u001b[39m\u001b[38;5;241m.\u001b[39mtake(indexer)\n\u001b[0;32m   6118\u001b[0m \u001b[38;5;28;01mif\u001b[39;00m \u001b[38;5;28misinstance\u001b[39m(key, Index):\n\u001b[0;32m   6119\u001b[0m     \u001b[38;5;66;03m# GH 42790 - Preserve name from an Index\u001b[39;00m\n",
      "File \u001b[1;32m~\\AppData\\Local\\Programs\\Python\\Python312\\Lib\\site-packages\\pandas\\core\\indexes\\base.py:6176\u001b[0m, in \u001b[0;36mIndex._raise_if_missing\u001b[1;34m(self, key, indexer, axis_name)\u001b[0m\n\u001b[0;32m   6174\u001b[0m     \u001b[38;5;28;01mif\u001b[39;00m use_interval_msg:\n\u001b[0;32m   6175\u001b[0m         key \u001b[38;5;241m=\u001b[39m \u001b[38;5;28mlist\u001b[39m(key)\n\u001b[1;32m-> 6176\u001b[0m     \u001b[38;5;28;01mraise\u001b[39;00m \u001b[38;5;167;01mKeyError\u001b[39;00m(\u001b[38;5;124mf\u001b[39m\u001b[38;5;124m\"\u001b[39m\u001b[38;5;124mNone of [\u001b[39m\u001b[38;5;132;01m{\u001b[39;00mkey\u001b[38;5;132;01m}\u001b[39;00m\u001b[38;5;124m] are in the [\u001b[39m\u001b[38;5;132;01m{\u001b[39;00maxis_name\u001b[38;5;132;01m}\u001b[39;00m\u001b[38;5;124m]\u001b[39m\u001b[38;5;124m\"\u001b[39m)\n\u001b[0;32m   6178\u001b[0m not_found \u001b[38;5;241m=\u001b[39m \u001b[38;5;28mlist\u001b[39m(ensure_index(key)[missing_mask\u001b[38;5;241m.\u001b[39mnonzero()[\u001b[38;5;241m0\u001b[39m]]\u001b[38;5;241m.\u001b[39munique())\n\u001b[0;32m   6179\u001b[0m \u001b[38;5;28;01mraise\u001b[39;00m \u001b[38;5;167;01mKeyError\u001b[39;00m(\u001b[38;5;124mf\u001b[39m\u001b[38;5;124m\"\u001b[39m\u001b[38;5;132;01m{\u001b[39;00mnot_found\u001b[38;5;132;01m}\u001b[39;00m\u001b[38;5;124m not in index\u001b[39m\u001b[38;5;124m\"\u001b[39m)\n",
      "\u001b[1;31mKeyError\u001b[0m: \"None of [Index([1], dtype='int32')] are in the [columns]\""
     ]
    }
   ],
   "source": [
    "SpotCrudePrices_2013[[1]]"
   ]
  },
  {
   "cell_type": "code",
   "execution_count": 45,
   "id": "c2d35820-fc75-4655-8ab0-3bb188846eea",
   "metadata": {},
   "outputs": [
    {
     "data": {
      "text/html": [
       "<div>\n",
       "<style scoped>\n",
       "    .dataframe tbody tr th:only-of-type {\n",
       "        vertical-align: middle;\n",
       "    }\n",
       "\n",
       "    .dataframe tbody tr th {\n",
       "        vertical-align: top;\n",
       "    }\n",
       "\n",
       "    .dataframe thead th {\n",
       "        text-align: right;\n",
       "    }\n",
       "</style>\n",
       "<table border=\"1\" class=\"dataframe\">\n",
       "  <thead>\n",
       "    <tr style=\"text-align: right;\">\n",
       "      <th></th>\n",
       "      <th>Dubai</th>\n",
       "      <th>UK_Brent</th>\n",
       "      <th>West_Texas_Intermediate</th>\n",
       "    </tr>\n",
       "  </thead>\n",
       "  <tbody>\n",
       "    <tr>\n",
       "      <th>2013-Q1</th>\n",
       "      <td>112.9</td>\n",
       "      <td>108.1</td>\n",
       "      <td>94.4</td>\n",
       "    </tr>\n",
       "    <tr>\n",
       "      <th>2013-Q2</th>\n",
       "      <td>103.0</td>\n",
       "      <td>100.8</td>\n",
       "      <td>94.2</td>\n",
       "    </tr>\n",
       "    <tr>\n",
       "      <th>2013-Q3</th>\n",
       "      <td>110.1</td>\n",
       "      <td>106.1</td>\n",
       "      <td>105.8</td>\n",
       "    </tr>\n",
       "    <tr>\n",
       "      <th>2013-Q4</th>\n",
       "      <td>109.4</td>\n",
       "      <td>106.7</td>\n",
       "      <td>97.4</td>\n",
       "    </tr>\n",
       "  </tbody>\n",
       "</table>\n",
       "</div>"
      ],
      "text/plain": [
       "         Dubai  UK_Brent  West_Texas_Intermediate\n",
       "2013-Q1  112.9     108.1                     94.4\n",
       "2013-Q2  103.0     100.8                     94.2\n",
       "2013-Q3  110.1     106.1                    105.8\n",
       "2013-Q4  109.4     106.7                     97.4"
      ]
     },
     "execution_count": 45,
     "metadata": {},
     "output_type": "execute_result"
    }
   ],
   "source": [
    "SpotCrudePrices_2013[:]"
   ]
  },
  {
   "cell_type": "code",
   "execution_count": 50,
   "id": "4c837cd7-53f7-4bca-bbc4-8f95321fc570",
   "metadata": {},
   "outputs": [
    {
     "data": {
      "text/html": [
       "<div>\n",
       "<style scoped>\n",
       "    .dataframe tbody tr th:only-of-type {\n",
       "        vertical-align: middle;\n",
       "    }\n",
       "\n",
       "    .dataframe tbody tr th {\n",
       "        vertical-align: top;\n",
       "    }\n",
       "\n",
       "    .dataframe thead th {\n",
       "        text-align: right;\n",
       "    }\n",
       "</style>\n",
       "<table border=\"1\" class=\"dataframe\">\n",
       "  <thead>\n",
       "    <tr style=\"text-align: right;\">\n",
       "      <th></th>\n",
       "      <th>Dubai</th>\n",
       "      <th>UK_Brent</th>\n",
       "      <th>West_Texas_Intermediate</th>\n",
       "    </tr>\n",
       "  </thead>\n",
       "  <tbody>\n",
       "    <tr>\n",
       "      <th>2013-Q4</th>\n",
       "      <td>109.4</td>\n",
       "      <td>106.7</td>\n",
       "      <td>97.4</td>\n",
       "    </tr>\n",
       "    <tr>\n",
       "      <th>2013-Q3</th>\n",
       "      <td>110.1</td>\n",
       "      <td>106.1</td>\n",
       "      <td>105.8</td>\n",
       "    </tr>\n",
       "    <tr>\n",
       "      <th>2013-Q2</th>\n",
       "      <td>103.0</td>\n",
       "      <td>100.8</td>\n",
       "      <td>94.2</td>\n",
       "    </tr>\n",
       "    <tr>\n",
       "      <th>2013-Q1</th>\n",
       "      <td>112.9</td>\n",
       "      <td>108.1</td>\n",
       "      <td>94.4</td>\n",
       "    </tr>\n",
       "  </tbody>\n",
       "</table>\n",
       "</div>"
      ],
      "text/plain": [
       "         Dubai  UK_Brent  West_Texas_Intermediate\n",
       "2013-Q4  109.4     106.7                     97.4\n",
       "2013-Q3  110.1     106.1                    105.8\n",
       "2013-Q2  103.0     100.8                     94.2\n",
       "2013-Q1  112.9     108.1                     94.4"
      ]
     },
     "execution_count": 50,
     "metadata": {},
     "output_type": "execute_result"
    }
   ],
   "source": [
    "SpotCrudePrices_2013[::-1]"
   ]
  },
  {
   "cell_type": "code",
   "execution_count": null,
   "id": "8b313001-a6fe-4714-b3b4-035cdab7e4bb",
   "metadata": {},
   "outputs": [],
   "source": []
  },
  {
   "cell_type": "code",
   "execution_count": null,
   "id": "cab471a2-0eb2-43c2-a688-eeee47fe7534",
   "metadata": {},
   "outputs": [],
   "source": []
  },
  {
   "cell_type": "code",
   "execution_count": null,
   "id": "f0328714-21e1-47e6-bb2f-22b0ecd202cc",
   "metadata": {},
   "outputs": [],
   "source": []
  },
  {
   "cell_type": "code",
   "execution_count": null,
   "id": "fe339482-563a-4c8b-a3f6-260821e445e3",
   "metadata": {},
   "outputs": [],
   "source": []
  },
  {
   "cell_type": "code",
   "execution_count": null,
   "id": "b9de2d22-bf48-41ea-95dc-ff2804389027",
   "metadata": {},
   "outputs": [],
   "source": []
  },
  {
   "cell_type": "code",
   "execution_count": null,
   "id": "05a1349c-86c7-40fe-b21c-6b06ba28dd96",
   "metadata": {},
   "outputs": [],
   "source": []
  },
  {
   "cell_type": "code",
   "execution_count": null,
   "id": "e8a06413-68c2-4773-8989-fec5f1f1e93e",
   "metadata": {},
   "outputs": [],
   "source": []
  }
 ],
 "metadata": {
  "kernelspec": {
   "display_name": "Python 3 (ipykernel)",
   "language": "python",
   "name": "python3"
  },
  "language_info": {
   "codemirror_mode": {
    "name": "ipython",
    "version": 3
   },
   "file_extension": ".py",
   "mimetype": "text/x-python",
   "name": "python",
   "nbconvert_exporter": "python",
   "pygments_lexer": "ipython3",
   "version": "3.12.1"
  }
 },
 "nbformat": 4,
 "nbformat_minor": 5
}
