{
 "cells": [
  {
   "cell_type": "code",
   "execution_count": 16,
   "id": "11c0bcbe-7bd1-45d9-ab5f-936a4e08f0d3",
   "metadata": {},
   "outputs": [],
   "source": [
    "import pandas as pd"
   ]
  },
  {
   "cell_type": "code",
   "execution_count": 14,
   "id": "ace088c3-d0d3-4115-b4d0-88083388fe6d",
   "metadata": {},
   "outputs": [],
   "source": [
    "NYC_SnowAvgsData={'Months' :\n",
    "['January','February','March',\n",
    "'April', 'November', 'December'],\n",
    "'Avg SnowDays' : [4.0,2.7,1.7,0.2,0.2,2.3],\n",
    "'Avg Precip. (cm)' : [17.8,22.4,9.1,1.5,0.8,12.2],\n",
    "'Avg Low Temp. (F)' : [27,29,35,45,42,32] }"
   ]
  },
  {
   "cell_type": "code",
   "execution_count": 15,
   "id": "398016ca-3d0b-4180-97d3-fd9a3b041942",
   "metadata": {},
   "outputs": [
    {
     "data": {
      "text/plain": [
       "{'Months': ['January', 'February', 'March', 'April', 'November', 'December'],\n",
       " 'Avg SnowDays': [4.0, 2.7, 1.7, 0.2, 0.2, 2.3],\n",
       " 'Avg Precip. (cm)': [17.8, 22.4, 9.1, 1.5, 0.8, 12.2],\n",
       " 'Avg Low Temp. (F)': [27, 29, 35, 45, 42, 32]}"
      ]
     },
     "execution_count": 15,
     "metadata": {},
     "output_type": "execute_result"
    }
   ],
   "source": [
    "NYC_SnowAvgsData"
   ]
  },
  {
   "cell_type": "code",
   "execution_count": 24,
   "id": "0c3e3a7b-dff9-4093-adcc-5bcce94370f6",
   "metadata": {},
   "outputs": [],
   "source": [
    "NYC_SnowAvgs=pd.DataFrame(NYC_SnowAvgsData, index = NYC_SnowAvgsData['Months'], \n",
    "                          columns = ['Avg SnowDays', 'Avg Precip. (cm)', 'Avg Low Temp. (F)'])"
   ]
  },
  {
   "cell_type": "code",
   "execution_count": 25,
   "id": "c41210ba-c730-4395-8770-fc63e6c7aedf",
   "metadata": {},
   "outputs": [
    {
     "data": {
      "text/html": [
       "<div>\n",
       "<style scoped>\n",
       "    .dataframe tbody tr th:only-of-type {\n",
       "        vertical-align: middle;\n",
       "    }\n",
       "\n",
       "    .dataframe tbody tr th {\n",
       "        vertical-align: top;\n",
       "    }\n",
       "\n",
       "    .dataframe thead th {\n",
       "        text-align: right;\n",
       "    }\n",
       "</style>\n",
       "<table border=\"1\" class=\"dataframe\">\n",
       "  <thead>\n",
       "    <tr style=\"text-align: right;\">\n",
       "      <th></th>\n",
       "      <th>Avg SnowDays</th>\n",
       "      <th>Avg Precip. (cm)</th>\n",
       "      <th>Avg Low Temp. (F)</th>\n",
       "    </tr>\n",
       "  </thead>\n",
       "  <tbody>\n",
       "    <tr>\n",
       "      <th>January</th>\n",
       "      <td>4.0</td>\n",
       "      <td>17.8</td>\n",
       "      <td>27</td>\n",
       "    </tr>\n",
       "    <tr>\n",
       "      <th>February</th>\n",
       "      <td>2.7</td>\n",
       "      <td>22.4</td>\n",
       "      <td>29</td>\n",
       "    </tr>\n",
       "    <tr>\n",
       "      <th>March</th>\n",
       "      <td>1.7</td>\n",
       "      <td>9.1</td>\n",
       "      <td>35</td>\n",
       "    </tr>\n",
       "    <tr>\n",
       "      <th>April</th>\n",
       "      <td>0.2</td>\n",
       "      <td>1.5</td>\n",
       "      <td>45</td>\n",
       "    </tr>\n",
       "    <tr>\n",
       "      <th>November</th>\n",
       "      <td>0.2</td>\n",
       "      <td>0.8</td>\n",
       "      <td>42</td>\n",
       "    </tr>\n",
       "    <tr>\n",
       "      <th>December</th>\n",
       "      <td>2.3</td>\n",
       "      <td>12.2</td>\n",
       "      <td>32</td>\n",
       "    </tr>\n",
       "  </tbody>\n",
       "</table>\n",
       "</div>"
      ],
      "text/plain": [
       "          Avg SnowDays  Avg Precip. (cm)  Avg Low Temp. (F)\n",
       "January            4.0              17.8                 27\n",
       "February           2.7              22.4                 29\n",
       "March              1.7               9.1                 35\n",
       "April              0.2               1.5                 45\n",
       "November           0.2               0.8                 42\n",
       "December           2.3              12.2                 32"
      ]
     },
     "execution_count": 25,
     "metadata": {},
     "output_type": "execute_result"
    }
   ],
   "source": [
    "NYC_SnowAvgs"
   ]
  },
  {
   "cell_type": "code",
   "execution_count": 26,
   "id": "76f8e732-aec1-409d-8b7b-ab0117bc2ccf",
   "metadata": {},
   "outputs": [
    {
     "data": {
      "text/plain": [
       "Avg SnowDays          4.0\n",
       "Avg Precip. (cm)     17.8\n",
       "Avg Low Temp. (F)    27.0\n",
       "Name: January, dtype: float64"
      ]
     },
     "execution_count": 26,
     "metadata": {},
     "output_type": "execute_result"
    }
   ],
   "source": [
    "NYC_SnowAvgs.loc['January']"
   ]
  },
  {
   "cell_type": "code",
   "execution_count": 27,
   "id": "8902acc4-f50c-46a1-a8a6-a7663b8a5703",
   "metadata": {},
   "outputs": [
    {
     "data": {
      "text/html": [
       "<div>\n",
       "<style scoped>\n",
       "    .dataframe tbody tr th:only-of-type {\n",
       "        vertical-align: middle;\n",
       "    }\n",
       "\n",
       "    .dataframe tbody tr th {\n",
       "        vertical-align: top;\n",
       "    }\n",
       "\n",
       "    .dataframe thead th {\n",
       "        text-align: right;\n",
       "    }\n",
       "</style>\n",
       "<table border=\"1\" class=\"dataframe\">\n",
       "  <thead>\n",
       "    <tr style=\"text-align: right;\">\n",
       "      <th></th>\n",
       "      <th>Avg SnowDays</th>\n",
       "      <th>Avg Precip. (cm)</th>\n",
       "      <th>Avg Low Temp. (F)</th>\n",
       "    </tr>\n",
       "  </thead>\n",
       "  <tbody>\n",
       "    <tr>\n",
       "      <th>January</th>\n",
       "      <td>4.0</td>\n",
       "      <td>17.8</td>\n",
       "      <td>27</td>\n",
       "    </tr>\n",
       "    <tr>\n",
       "      <th>April</th>\n",
       "      <td>0.2</td>\n",
       "      <td>1.5</td>\n",
       "      <td>45</td>\n",
       "    </tr>\n",
       "  </tbody>\n",
       "</table>\n",
       "</div>"
      ],
      "text/plain": [
       "         Avg SnowDays  Avg Precip. (cm)  Avg Low Temp. (F)\n",
       "January           4.0              17.8                 27\n",
       "April             0.2               1.5                 45"
      ]
     },
     "execution_count": 27,
     "metadata": {},
     "output_type": "execute_result"
    }
   ],
   "source": [
    "NYC_SnowAvgs.loc[['January', 'April']]"
   ]
  },
  {
   "cell_type": "code",
   "execution_count": 29,
   "id": "7cd3e662-0584-4420-9a35-d513747f32a6",
   "metadata": {},
   "outputs": [
    {
     "data": {
      "text/html": [
       "<div>\n",
       "<style scoped>\n",
       "    .dataframe tbody tr th:only-of-type {\n",
       "        vertical-align: middle;\n",
       "    }\n",
       "\n",
       "    .dataframe tbody tr th {\n",
       "        vertical-align: top;\n",
       "    }\n",
       "\n",
       "    .dataframe thead th {\n",
       "        text-align: right;\n",
       "    }\n",
       "</style>\n",
       "<table border=\"1\" class=\"dataframe\">\n",
       "  <thead>\n",
       "    <tr style=\"text-align: right;\">\n",
       "      <th></th>\n",
       "      <th>Avg SnowDays</th>\n",
       "      <th>Avg Precip. (cm)</th>\n",
       "      <th>Avg Low Temp. (F)</th>\n",
       "    </tr>\n",
       "  </thead>\n",
       "  <tbody>\n",
       "    <tr>\n",
       "      <th>January</th>\n",
       "      <td>4.0</td>\n",
       "      <td>17.8</td>\n",
       "      <td>27</td>\n",
       "    </tr>\n",
       "    <tr>\n",
       "      <th>February</th>\n",
       "      <td>2.7</td>\n",
       "      <td>22.4</td>\n",
       "      <td>29</td>\n",
       "    </tr>\n",
       "    <tr>\n",
       "      <th>March</th>\n",
       "      <td>1.7</td>\n",
       "      <td>9.1</td>\n",
       "      <td>35</td>\n",
       "    </tr>\n",
       "    <tr>\n",
       "      <th>April</th>\n",
       "      <td>0.2</td>\n",
       "      <td>1.5</td>\n",
       "      <td>45</td>\n",
       "    </tr>\n",
       "  </tbody>\n",
       "</table>\n",
       "</div>"
      ],
      "text/plain": [
       "          Avg SnowDays  Avg Precip. (cm)  Avg Low Temp. (F)\n",
       "January            4.0              17.8                 27\n",
       "February           2.7              22.4                 29\n",
       "March              1.7               9.1                 35\n",
       "April              0.2               1.5                 45"
      ]
     },
     "execution_count": 29,
     "metadata": {},
     "output_type": "execute_result"
    }
   ],
   "source": [
    "NYC_SnowAvgs.loc['January':'April']"
   ]
  },
  {
   "cell_type": "code",
   "execution_count": 35,
   "id": "3cf4ee72-d640-4c29-87b3-94b77c37d32f",
   "metadata": {},
   "outputs": [
    {
     "data": {
      "text/plain": [
       "1.5"
      ]
     },
     "execution_count": 35,
     "metadata": {},
     "output_type": "execute_result"
    }
   ],
   "source": [
    "NYC_SnowAvgs.loc['April','Avg Precip. (cm)']"
   ]
  },
  {
   "cell_type": "code",
   "execution_count": 47,
   "id": "73792acd-c867-47b7-b442-c1e85f3633de",
   "metadata": {},
   "outputs": [
    {
     "data": {
      "text/html": [
       "<div>\n",
       "<style scoped>\n",
       "    .dataframe tbody tr th:only-of-type {\n",
       "        vertical-align: middle;\n",
       "    }\n",
       "\n",
       "    .dataframe tbody tr th {\n",
       "        vertical-align: top;\n",
       "    }\n",
       "\n",
       "    .dataframe thead th {\n",
       "        text-align: right;\n",
       "    }\n",
       "</style>\n",
       "<table border=\"1\" class=\"dataframe\">\n",
       "  <thead>\n",
       "    <tr style=\"text-align: right;\">\n",
       "      <th></th>\n",
       "      <th>Avg SnowDays</th>\n",
       "      <th>Avg Precip. (cm)</th>\n",
       "      <th>Avg Low Temp. (F)</th>\n",
       "    </tr>\n",
       "  </thead>\n",
       "  <tbody>\n",
       "    <tr>\n",
       "      <th>January</th>\n",
       "      <td>4.0</td>\n",
       "      <td>17.8</td>\n",
       "      <td>27</td>\n",
       "    </tr>\n",
       "    <tr>\n",
       "      <th>February</th>\n",
       "      <td>2.7</td>\n",
       "      <td>22.4</td>\n",
       "      <td>29</td>\n",
       "    </tr>\n",
       "    <tr>\n",
       "      <th>December</th>\n",
       "      <td>2.3</td>\n",
       "      <td>12.2</td>\n",
       "      <td>32</td>\n",
       "    </tr>\n",
       "  </tbody>\n",
       "</table>\n",
       "</div>"
      ],
      "text/plain": [
       "          Avg SnowDays  Avg Precip. (cm)  Avg Low Temp. (F)\n",
       "January            4.0              17.8                 27\n",
       "February           2.7              22.4                 29\n",
       "December           2.3              12.2                 32"
      ]
     },
     "execution_count": 47,
     "metadata": {},
     "output_type": "execute_result"
    }
   ],
   "source": [
    "NYC_SnowAvgs.loc[NYC_SnowAvgs['Avg SnowDays']>2, :]"
   ]
  },
  {
   "cell_type": "code",
   "execution_count": 59,
   "id": "11f74385-def4-4aee-86e6-0a41e751c8d1",
   "metadata": {},
   "outputs": [
    {
     "data": {
      "text/html": [
       "<div>\n",
       "<style scoped>\n",
       "    .dataframe tbody tr th:only-of-type {\n",
       "        vertical-align: middle;\n",
       "    }\n",
       "\n",
       "    .dataframe tbody tr th {\n",
       "        vertical-align: top;\n",
       "    }\n",
       "\n",
       "    .dataframe thead th {\n",
       "        text-align: right;\n",
       "    }\n",
       "</style>\n",
       "<table border=\"1\" class=\"dataframe\">\n",
       "  <thead>\n",
       "    <tr style=\"text-align: right;\">\n",
       "      <th></th>\n",
       "      <th>Avg Low Temp. (F)</th>\n",
       "    </tr>\n",
       "  </thead>\n",
       "  <tbody>\n",
       "    <tr>\n",
       "      <th>December</th>\n",
       "      <td>32</td>\n",
       "    </tr>\n",
       "    <tr>\n",
       "      <th>April</th>\n",
       "      <td>45</td>\n",
       "    </tr>\n",
       "    <tr>\n",
       "      <th>February</th>\n",
       "      <td>29</td>\n",
       "    </tr>\n",
       "  </tbody>\n",
       "</table>\n",
       "</div>"
      ],
      "text/plain": [
       "          Avg Low Temp. (F)\n",
       "December                 32\n",
       "April                    45\n",
       "February                 29"
      ]
     },
     "execution_count": 59,
     "metadata": {},
     "output_type": "execute_result"
    }
   ],
   "source": [
    "NYC_SnowAvgs.loc[::-2,NYC_SnowAvgs.loc['January']>20]\n"
   ]
  },
  {
   "cell_type": "code",
   "execution_count": null,
   "id": "baf3a7e3-2a3c-4406-858f-6a6bfcd93ebf",
   "metadata": {},
   "outputs": [],
   "source": [
    "NYC_SnowAvgs."
   ]
  },
  {
   "cell_type": "code",
   "execution_count": null,
   "id": "6c58b83a-fb3c-420b-afb8-0c3534ed2360",
   "metadata": {},
   "outputs": [],
   "source": []
  },
  {
   "cell_type": "code",
   "execution_count": null,
   "id": "56a4f28d-7553-4f77-8a82-baf3fd84bc07",
   "metadata": {},
   "outputs": [],
   "source": []
  },
  {
   "cell_type": "code",
   "execution_count": null,
   "id": "5ee7cc45-0d6d-469b-b227-e9323dae0124",
   "metadata": {},
   "outputs": [],
   "source": []
  },
  {
   "cell_type": "code",
   "execution_count": null,
   "id": "e7a71ad2-aea4-48e8-8f3c-98101071dafd",
   "metadata": {},
   "outputs": [],
   "source": []
  },
  {
   "cell_type": "code",
   "execution_count": null,
   "id": "cadb7524-276b-4b78-b83e-3869904d69bb",
   "metadata": {},
   "outputs": [],
   "source": []
  },
  {
   "cell_type": "code",
   "execution_count": null,
   "id": "a5873650-8c24-41a6-85d3-add82225354e",
   "metadata": {},
   "outputs": [],
   "source": []
  },
  {
   "cell_type": "code",
   "execution_count": null,
   "id": "7077f1eb-4d25-46b4-a196-3cba6ab31559",
   "metadata": {},
   "outputs": [],
   "source": []
  },
  {
   "cell_type": "code",
   "execution_count": null,
   "id": "354c3e3e-ae79-4701-aa8b-99e30106a1b6",
   "metadata": {},
   "outputs": [],
   "source": []
  },
  {
   "cell_type": "code",
   "execution_count": null,
   "id": "a851c92b-161c-4431-a3b4-d98089d271f2",
   "metadata": {},
   "outputs": [],
   "source": []
  },
  {
   "cell_type": "code",
   "execution_count": null,
   "id": "0ce7fcc4-4a5b-4484-8eab-b56b242f7d97",
   "metadata": {},
   "outputs": [],
   "source": []
  },
  {
   "cell_type": "code",
   "execution_count": null,
   "id": "333bccb5-d873-4330-af51-b971f68280bc",
   "metadata": {},
   "outputs": [],
   "source": []
  },
  {
   "cell_type": "code",
   "execution_count": null,
   "id": "71483c10-da8d-4419-88f6-11e6f934eb7e",
   "metadata": {},
   "outputs": [],
   "source": []
  },
  {
   "cell_type": "code",
   "execution_count": null,
   "id": "3b3f5425-e6b5-4b76-8093-c0c788adbe41",
   "metadata": {},
   "outputs": [],
   "source": []
  },
  {
   "cell_type": "code",
   "execution_count": null,
   "id": "3c7dee12-53d3-460e-9ebe-ec159ea1de72",
   "metadata": {},
   "outputs": [],
   "source": []
  },
  {
   "cell_type": "code",
   "execution_count": null,
   "id": "2c6eca2d-35a3-453d-b2e1-1d8325b3cb86",
   "metadata": {},
   "outputs": [],
   "source": []
  },
  {
   "cell_type": "code",
   "execution_count": null,
   "id": "2526c97c-889d-4597-a2e3-24ad2eac3a1e",
   "metadata": {},
   "outputs": [],
   "source": []
  },
  {
   "cell_type": "code",
   "execution_count": null,
   "id": "8036b06d-66c2-421f-8cf5-a7a616e4e72f",
   "metadata": {},
   "outputs": [],
   "source": []
  },
  {
   "cell_type": "code",
   "execution_count": null,
   "id": "94d6e4f3-fee5-44b9-9316-4791a10825e5",
   "metadata": {},
   "outputs": [],
   "source": []
  }
 ],
 "metadata": {
  "kernelspec": {
   "display_name": "Python 3 (ipykernel)",
   "language": "python",
   "name": "python3"
  },
  "language_info": {
   "codemirror_mode": {
    "name": "ipython",
    "version": 3
   },
   "file_extension": ".py",
   "mimetype": "text/x-python",
   "name": "python",
   "nbconvert_exporter": "python",
   "pygments_lexer": "ipython3",
   "version": "3.12.1"
  }
 },
 "nbformat": 4,
 "nbformat_minor": 5
}
